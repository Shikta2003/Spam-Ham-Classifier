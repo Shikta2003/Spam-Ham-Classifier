{
 "cells": [
  {
   "cell_type": "code",
   "execution_count": null,
   "id": "160ef7d4-850b-4303-912f-41c51b0edfe8",
   "metadata": {},
   "outputs": [],
   "source": [
    "import numpy as np\n",
    "import pandas as pd"
   ]
  },
  {
   "cell_type": "code",
   "execution_count": null,
   "id": "7523a655-1044-4623-8956-bffc9332f8f7",
   "metadata": {},
   "outputs": [],
   "source": [
    "df = pd.read_csv('spam.csv',encoding='latin1') "
   ]
  },
  {
   "cell_type": "code",
   "execution_count": null,
   "id": "e5efc86f-3ade-413a-b92e-f498b41d90b9",
   "metadata": {},
   "outputs": [],
   "source": [
    "df.sample(5)"
   ]
  },
  {
   "cell_type": "code",
   "execution_count": null,
   "id": "62ab99ad-562f-4b8c-a319-87fe86fb5750",
   "metadata": {},
   "outputs": [],
   "source": [
    "df.shape"
   ]
  },
  {
   "cell_type": "markdown",
   "id": "ded4b483-a6ac-4330-8b1f-f549aabf5e23",
   "metadata": {},
   "source": [
    "#1.Data cleaning"
   ]
  },
  {
   "cell_type": "markdown",
   "id": "e7db4406-bca9-47ef-b4b7-d7698866381d",
   "metadata": {},
   "source": [
    "## df.info()"
   ]
  },
  {
   "cell_type": "code",
   "execution_count": null,
   "id": "669a6feb-9508-485c-ac6f-d5d95f2c1722",
   "metadata": {},
   "outputs": [],
   "source": [
    "#drop last 3 col\n",
    "df.drop(columns=['Unnamed: 2','Unnamed: 3','Unnamed: 4'],inplace=True)"
   ]
  },
  {
   "cell_type": "code",
   "execution_count": null,
   "id": "f16346f7-f780-4074-80b4-c06281c27375",
   "metadata": {},
   "outputs": [],
   "source": [
    "df.sample(5)"
   ]
  },
  {
   "cell_type": "code",
   "execution_count": null,
   "id": "5783e471-c20a-43f9-ba2c-5ce5a92e9399",
   "metadata": {},
   "outputs": [],
   "source": [
    "#renaming the cols\n",
    "df.rename(columns={'v1':'target','v2':'text'},inplace=True)\n",
    "df.sample(5)"
   ]
  },
  {
   "cell_type": "code",
   "execution_count": null,
   "id": "50951860-bca7-429b-ba38-3fe06f149577",
   "metadata": {},
   "outputs": [],
   "source": [
    "from sklearn.preprocessing import LabelEncoder\n",
    "encoder=LabelEncoder()"
   ]
  },
  {
   "cell_type": "code",
   "execution_count": null,
   "id": "423485aa-8cdb-446c-ae3e-b5401cf51dcd",
   "metadata": {},
   "outputs": [],
   "source": [
    "df['target']=encoder.fit_transform(df['target'])"
   ]
  },
  {
   "cell_type": "code",
   "execution_count": null,
   "id": "fd259530-7a51-4bd4-ac39-bb05e3417dd2",
   "metadata": {},
   "outputs": [],
   "source": [
    "df.head()"
   ]
  },
  {
   "cell_type": "code",
   "execution_count": null,
   "id": "f7a29171-bfa2-4cd0-af42-b7879c94bdae",
   "metadata": {},
   "outputs": [],
   "source": [
    "#missing values\n",
    "df.isnull().sum()"
   ]
  },
  {
   "cell_type": "code",
   "execution_count": null,
   "id": "d5b24e96-30d3-4f78-babf-6b919fd9e4b3",
   "metadata": {},
   "outputs": [],
   "source": [
    "#checking for duplicated values\n",
    "df.duplicated().sum()"
   ]
  },
  {
   "cell_type": "code",
   "execution_count": null,
   "id": "9006af58-6089-4091-8899-f48eaf3d076d",
   "metadata": {},
   "outputs": [],
   "source": [
    "#remove duplicates\n",
    "df=df.drop_duplicates(keep='first')"
   ]
  },
  {
   "cell_type": "code",
   "execution_count": null,
   "id": "19293a27-e60a-4975-a9eb-818500fe7f97",
   "metadata": {},
   "outputs": [],
   "source": [
    "df.shape"
   ]
  },
  {
   "cell_type": "markdown",
   "id": "6f8889b1-8a21-46ee-9167-0851bea75121",
   "metadata": {},
   "source": [
    "#2.EDA"
   ]
  },
  {
   "cell_type": "code",
   "execution_count": null,
   "id": "51a6ca01-3957-4fd5-be09-b8524a0cf19d",
   "metadata": {},
   "outputs": [],
   "source": [
    "df['target'].value_counts()"
   ]
  },
  {
   "cell_type": "code",
   "execution_count": null,
   "id": "6188b6b4-be4a-45e6-a29a-cb9d2f5fd934",
   "metadata": {},
   "outputs": [],
   "source": [
    "import matplotlib.pyplot as plt\n",
    "plt.pie(df['target'].value_counts(),labels=['ham','spam'],autopct=\"%0.2f\")"
   ]
  },
  {
   "cell_type": "code",
   "execution_count": null,
   "id": "dcfc0481-04a5-4e04-ab8c-2d34bd7cf376",
   "metadata": {},
   "outputs": [],
   "source": [
    "#Data is imbalanced"
   ]
  },
  {
   "cell_type": "code",
   "execution_count": null,
   "id": "5c665449-5193-4509-b3b4-283bcdc4f210",
   "metadata": {},
   "outputs": [],
   "source": [
    "import nltk"
   ]
  },
  {
   "cell_type": "code",
   "execution_count": null,
   "id": "ed59aecd-f141-4800-a228-1b9f638c5b68",
   "metadata": {},
   "outputs": [],
   "source": [
    "!pip install nltk"
   ]
  },
  {
   "cell_type": "code",
   "execution_count": null,
   "id": "da2a2674-9969-435d-9d32-3f9725f6b6d8",
   "metadata": {},
   "outputs": [],
   "source": [
    "nltk.download('punkt')"
   ]
  },
  {
   "cell_type": "code",
   "execution_count": null,
   "id": "c305783b-0e35-4502-892a-e2f33e9df0c6",
   "metadata": {},
   "outputs": [],
   "source": [
    "df['num_characters']=df['text'].apply(len)"
   ]
  },
  {
   "cell_type": "code",
   "execution_count": null,
   "id": "ac880b9e-8af0-43bd-972e-fbbf48781a46",
   "metadata": {},
   "outputs": [],
   "source": [
    "#number of words\n",
    "df['num_words']=df['text'].apply(lambda x:len(nltk.word_tokenize(x)))"
   ]
  },
  {
   "cell_type": "code",
   "execution_count": null,
   "id": "d5609287-fd71-4bd1-b09e-5bdcfe949567",
   "metadata": {},
   "outputs": [],
   "source": [
    "df['num_sentences']=df['text'].apply(lambda x:len(nltk.sent_tokenize(x)))"
   ]
  },
  {
   "cell_type": "code",
   "execution_count": null,
   "id": "8016fa8c-9855-4cfd-8533-04078a077f72",
   "metadata": {},
   "outputs": [],
   "source": [
    "df.head()"
   ]
  },
  {
   "cell_type": "code",
   "execution_count": null,
   "id": "5ba9d530-c940-475d-8fa9-51d7205cdb32",
   "metadata": {},
   "outputs": [],
   "source": [
    "df[['num_characters','num_words','num_sentences']].describe()"
   ]
  },
  {
   "cell_type": "code",
   "execution_count": null,
   "id": "ee4edef0-d727-4057-90c6-16b4945e1938",
   "metadata": {},
   "outputs": [],
   "source": [
    "df[df['target']==0][['num_characters','num_words','num_sentences']].describe()"
   ]
  },
  {
   "cell_type": "code",
   "execution_count": null,
   "id": "8c90ff50-459b-4bf0-8a45-bbb54a571ede",
   "metadata": {},
   "outputs": [],
   "source": [
    "df[df['target']==1][['num_characters','num_words','num_sentences']].describe()"
   ]
  },
  {
   "cell_type": "code",
   "execution_count": null,
   "id": "30db52da-df53-4be8-ae88-db5c532a810e",
   "metadata": {},
   "outputs": [],
   "source": [
    "import seaborn as sns"
   ]
  },
  {
   "cell_type": "code",
   "execution_count": null,
   "id": "588011a5-30c6-4401-9342-9aba2e2b5e19",
   "metadata": {},
   "outputs": [],
   "source": [
    "plt.figure(figsize=(12,6))\n",
    "sns.histplot(df[df['target']==0]['num_characters'])\n",
    "sns.histplot(df[df['target']==1]['num_characters'],color='red')"
   ]
  },
  {
   "cell_type": "code",
   "execution_count": null,
   "id": "1714bc46-8c08-465c-a994-4ee431c4ed1c",
   "metadata": {},
   "outputs": [],
   "source": [
    "plt.figure(figsize=(12,6))\n",
    "sns.histplot(df[df['target']==0]['num_words'])\n",
    "sns.histplot(df[df['target']==1]['num_words'],color='red')"
   ]
  },
  {
   "cell_type": "code",
   "execution_count": null,
   "id": "5b50cb11-b163-4ede-9c1f-998bcb19d5da",
   "metadata": {},
   "outputs": [],
   "source": [
    "sns.pairplot(df,hue='target')"
   ]
  },
  {
   "cell_type": "code",
   "execution_count": null,
   "id": "f1cd2ac2-2261-44d7-b0e0-3f3ff37fbcbb",
   "metadata": {},
   "outputs": [],
   "source": [
    "df=df.drop(columns=['text'])"
   ]
  },
  {
   "cell_type": "code",
   "execution_count": null,
   "id": "99cc6352-4099-44cf-b281-8c47da707b3e",
   "metadata": {},
   "outputs": [],
   "source": [
    "sns.heatmap(df.corr(),annot=True)"
   ]
  },
  {
   "cell_type": "markdown",
   "id": "017d5397-1850-449c-a2f6-5df364bc3248",
   "metadata": {},
   "source": [
    "#3.Data Preprocessing\n",
    "##Lower Case\n",
    "##Tokenization(breaking in words)\n",
    "##Removing Special Characters\n",
    "##removing stop words and punctuation\n",
    "##Stemming"
   ]
  },
  {
   "cell_type": "code",
   "execution_count": null,
   "id": "3a01a16d-ca53-4b11-8a54-9b6448c6fe5a",
   "metadata": {},
   "outputs": [],
   "source": [
    "import nltk\n",
    "nltk.download('stopwords')\n",
    "from nltk.corpus import stopwords\n",
    "stopwords.words('english')"
   ]
  },
  {
   "cell_type": "code",
   "execution_count": null,
   "id": "b96f665e-8298-4f2f-9a00-30a180415f09",
   "metadata": {},
   "outputs": [],
   "source": [
    "import string\n",
    "string.punctuation"
   ]
  },
  {
   "cell_type": "code",
   "execution_count": null,
   "id": "c2ee99cc-0f82-4c4a-9960-cbdbb33b3ea8",
   "metadata": {},
   "outputs": [],
   "source": [
    "from nltk.stem.porter import PorterStemmer\n",
    "ps = PorterStemmer()\n",
    "ps.stem('loving')"
   ]
  },
  {
   "cell_type": "code",
   "execution_count": null,
   "id": "43e86510-0301-454e-8c38-8ca4e37794ce",
   "metadata": {},
   "outputs": [],
   "source": [
    "def transform_text(text):\n",
    "    text=text.lower()\n",
    "    text=nltk.word_tokenize(text)\n",
    "\n",
    "    y=[]\n",
    "    for i in text:\n",
    "        if i.isalnum():\n",
    "            y.append(i)\n",
    "    text=y[:]\n",
    "    y.clear()\n",
    "    \n",
    "    for i in text:\n",
    "        if i not in stopwords.words('english') and i not in string.punctuation:\n",
    "            y.append(i)\n",
    "\n",
    "    text=y[:]\n",
    "    y.clear()\n",
    "\n",
    "    for i in text:\n",
    "        y.append(ps.stem(i))\n",
    "\n",
    "    return \" \".join(y)"
   ]
  },
  {
   "cell_type": "code",
   "execution_count": null,
   "id": "b3e78140-5c31-4ae7-b219-e4f6006e7039",
   "metadata": {},
   "outputs": [],
   "source": [
    "transform_text('Go until jurong point, crazy.. Available only in bugis n great world la e buffet... Cine there got amore wat...')"
   ]
  },
  {
   "cell_type": "code",
   "execution_count": null,
   "id": "8d15883c-d5b9-4627-808c-0e85d5869df4",
   "metadata": {},
   "outputs": [],
   "source": [
    "print(df.columns)"
   ]
  },
  {
   "cell_type": "code",
   "execution_count": null,
   "id": "846a1d4e-2ac9-4c99-aeaf-6ea11c85e517",
   "metadata": {},
   "outputs": [],
   "source": [
    "df['transformed_text'] = df['text'].apply(transform_text)"
   ]
  },
  {
   "cell_type": "code",
   "execution_count": null,
   "id": "9455551b-3750-47c9-89ae-07658dfd3992",
   "metadata": {},
   "outputs": [],
   "source": [
    "df.head()"
   ]
  },
  {
   "cell_type": "code",
   "execution_count": null,
   "id": "83e07d5e-201e-4bae-9b14-52982af376af",
   "metadata": {},
   "outputs": [],
   "source": [
    "from wordcloud import WordCloud\n",
    "wc = WordCloud(width=500, height=500, min_font_size=10, background_color='white')\n",
    "wc"
   ]
  },
  {
   "cell_type": "code",
   "execution_count": null,
   "id": "cf02f466-55d9-47b2-b10b-3a86b44ca576",
   "metadata": {
    "scrolled": true
   },
   "outputs": [],
   "source": [
    "spam_wc = wc.generate(df[df['target'] == 1]['transformed_text'].str.cat(sep=\"\"))\n",
    "spam_wc"
   ]
  },
  {
   "cell_type": "code",
   "execution_count": null,
   "id": "fed41aad-8f35-43be-83e3-6c139c0ac202",
   "metadata": {},
   "outputs": [],
   "source": [
    "import matplotlib.pyplot as plt\n",
    "plt.figure(figsize=(5,4))\n",
    "plt.imshow(spam_wc)"
   ]
  },
  {
   "cell_type": "code",
   "execution_count": null,
   "id": "294676b9-fc27-4381-ad3a-2bce12607f1b",
   "metadata": {},
   "outputs": [],
   "source": [
    "ham_wc = wc.generate(df[df['target'] == 0]['transformed_text'].str.cat(sep=\"\"))\n",
    "plt.figure(figsize=(5,4))\n",
    "plt.imshow(ham_wc)"
   ]
  },
  {
   "cell_type": "code",
   "execution_count": null,
   "id": "02cb6b31-1373-4b58-a057-70f30af5c583",
   "metadata": {},
   "outputs": [],
   "source": [
    "spam_corpus=[]\n",
    "for msg in df[df['target']==1]['transformed_text'].tolist():\n",
    "    for word in msg.split():\n",
    "        spam_corpus.append(word)"
   ]
  },
  {
   "cell_type": "code",
   "execution_count": null,
   "id": "d6cbb2d1-a6a1-4f25-aee1-cb10cb7ac77c",
   "metadata": {},
   "outputs": [],
   "source": [
    "len(spam_corpus)"
   ]
  },
  {
   "cell_type": "code",
   "execution_count": null,
   "id": "5a8197ce-d269-4218-b536-51722fa5b51d",
   "metadata": {},
   "outputs": [],
   "source": [
    "import seaborn as sns\n",
    "import pandas as pd\n",
    "from collections import Counter\n",
    "spam_df = pd.DataFrame(Counter(spam_corpus).most_common(30), columns=['word', 'count'])\n",
    "# Correct way to use sns.barplot:\n",
    "sns.barplot(x='word', y='count', data=spam_df)\n",
    "plt.xticks(rotation='vertical')\n",
    "plt.show()"
   ]
  },
  {
   "cell_type": "code",
   "execution_count": null,
   "id": "9f192b1d-badb-413d-87db-ff69a3e0e0cf",
   "metadata": {},
   "outputs": [],
   "source": [
    "ham_corpus=[]\n",
    "for msg in df[df['target']==0]['transformed_text'].tolist():\n",
    "    for word in msg.split():\n",
    "        ham_corpus.append(word)"
   ]
  },
  {
   "cell_type": "code",
   "execution_count": null,
   "id": "6a0f947b-1132-438c-a1d3-6d89215ccc63",
   "metadata": {},
   "outputs": [],
   "source": [
    "len(ham_corpus)"
   ]
  },
  {
   "cell_type": "code",
   "execution_count": null,
   "id": "6bceec20-784d-43f3-a833-4faa28edb53c",
   "metadata": {},
   "outputs": [],
   "source": [
    "ham_df = pd.DataFrame(Counter(ham_corpus).most_common(30), columns=['word', 'count'])\n",
    "# Correct way to use sns.barplot:\n",
    "sns.barplot(x='word', y='count', data=ham_df)\n",
    "plt.xticks(rotation='vertical')\n",
    "plt.show()"
   ]
  },
  {
   "cell_type": "markdown",
   "id": "7a6804cf-4b54-4e3f-bcad-99528d115a7a",
   "metadata": {},
   "source": [
    "4.  MODEL BUILDING"
   ]
  },
  {
   "cell_type": "code",
   "execution_count": null,
   "id": "51035276-d5f2-4ab4-8113-d1894d4d7663",
   "metadata": {},
   "outputs": [],
   "source": [
    "from sklearn.feature_extraction.text import CountVectorizer,TfidfVectorizer\n",
    "cv=CountVectorizer()\n",
    "tfidf=TfidfVectorizer()"
   ]
  },
  {
   "cell_type": "code",
   "execution_count": null,
   "id": "c7744999-a311-4eba-8d40-5bb97db3ccf3",
   "metadata": {},
   "outputs": [],
   "source": [
    "X=cv.fit_transform(df['transformed_text']).toarray()"
   ]
  },
  {
   "cell_type": "code",
   "execution_count": null,
   "id": "a157c23b-2446-4bfd-b367-fff4b2169411",
   "metadata": {},
   "outputs": [],
   "source": [
    "X.shape"
   ]
  },
  {
   "cell_type": "code",
   "execution_count": null,
   "id": "3ec3d41b-e0db-49ab-bf69-7217b038cc26",
   "metadata": {},
   "outputs": [],
   "source": [
    "y=df['target'].values\n",
    "y"
   ]
  },
  {
   "cell_type": "code",
   "execution_count": null,
   "id": "4e7ce603-e5d7-41ec-8335-92c477dea5b1",
   "metadata": {},
   "outputs": [],
   "source": [
    "from sklearn.model_selection import train_test_split"
   ]
  },
  {
   "cell_type": "code",
   "execution_count": null,
   "id": "b6d955a1-ae86-42f4-a0b7-860b7467c059",
   "metadata": {},
   "outputs": [],
   "source": [
    "X_train,X_test,y_train,y_test=train_test_split(X,y,test_size=0.2,random_state=2)"
   ]
  },
  {
   "cell_type": "code",
   "execution_count": null,
   "id": "f9a15ade-8ad6-4c7f-9b8f-d317b7e244dc",
   "metadata": {},
   "outputs": [],
   "source": [
    "from sklearn.naive_bayes import GaussianNB,MultinomialNB,BernoulliNB\n",
    "from sklearn.metrics import accuracy_score,confusion_matrix,precision_score"
   ]
  },
  {
   "cell_type": "code",
   "execution_count": null,
   "id": "2a7951a0-fa66-49ea-9550-e41b7c99e0fc",
   "metadata": {},
   "outputs": [],
   "source": [
    "gnb=GaussianNB()\n",
    "mnb=MultinomialNB()\n",
    "bnb=BernoulliNB()"
   ]
  },
  {
   "cell_type": "code",
   "execution_count": null,
   "id": "5fd0d894-877b-4317-a582-040a975f0a39",
   "metadata": {},
   "outputs": [],
   "source": [
    "gnb.fit(X_train,y_train)\n",
    "y_pred1=gnb.predict(X_test)\n",
    "print(accuracy_score(y_test,y_pred1))\n",
    "print(confusion_matrix(y_test,y_pred1))\n",
    "print(precision_score(y_test,y_pred1))"
   ]
  },
  {
   "cell_type": "code",
   "execution_count": null,
   "id": "9696739b-cf27-4d3a-8ab9-3786837d9905",
   "metadata": {},
   "outputs": [],
   "source": [
    "mnb.fit(X_train,y_train)\n",
    "y_pred2=mnb.predict(X_test)\n",
    "print(accuracy_score(y_test,y_pred2))\n",
    "print(confusion_matrix(y_test,y_pred2))\n",
    "print(precision_score(y_test,y_pred2))"
   ]
  },
  {
   "cell_type": "code",
   "execution_count": null,
   "id": "984bfc79-2edf-4c3f-b20f-76ae88d256d7",
   "metadata": {},
   "outputs": [],
   "source": [
    "bnb.fit(X_train,y_train)\n",
    "y_pred3=bnb.predict(X_test)\n",
    "print(accuracy_score(y_test,y_pred3))\n",
    "print(confusion_matrix(y_test,y_pred3))\n",
    "print(precision_score(y_test,y_pred3))"
   ]
  },
  {
   "cell_type": "code",
   "execution_count": null,
   "id": "8a2cc6a8-4e5c-4e6d-bf02-12b872b3981a",
   "metadata": {},
   "outputs": [],
   "source": [
    "X=tfidf.fit_transform(df['transformed_text']).toarray()\n",
    "X.shape\n",
    "y=df['target'].values\n",
    "X_train,X_test,y_train,y_test=train_test_split(X,y,test_size=0.2,random_state=2)\n",
    "gnb=GaussianNB()\n",
    "mnb=MultinomialNB()\n",
    "bnb=BernoulliNB()\n",
    "mnb.fit(X_train,y_train)\n",
    "y_pred2=mnb.predict(X_test)\n",
    "print(accuracy_score(y_test,y_pred2))\n",
    "print(confusion_matrix(y_test,y_pred2))\n",
    "print(precision_score(y_test,y_pred2))"
   ]
  },
  {
   "cell_type": "code",
   "execution_count": null,
   "id": "e5fb11de-aa22-4719-b9c6-2adc0704e907",
   "metadata": {},
   "outputs": [],
   "source": [
    "#tfidf-->MNB (as precision is 1 that is true negative is 0,accuracy is not reliable as data is imbalanced)"
   ]
  },
  {
   "cell_type": "code",
   "execution_count": null,
   "id": "5f5cf82c-3478-4e70-a28c-a40dbdf460fb",
   "metadata": {},
   "outputs": [],
   "source": [
    "from sklearn.naive_bayes import MultinomialNB\n",
    "from sklearn.linear_model import LogisticRegression\n",
    "from sklearn.tree import DecisionTreeClassifier\n",
    "from sklearn.ensemble import RandomForestClassifier\n",
    "from sklearn.neighbors import KNeighborsClassifier"
   ]
  },
  {
   "cell_type": "code",
   "execution_count": null,
   "id": "bcc3784f-4883-4726-bbb4-85abf50fb907",
   "metadata": {},
   "outputs": [],
   "source": [
    "mnb=MultinomialNB()\n",
    "lrc=LogisticRegression(solver='liblinear',penalty='l1')\n",
    "dtc=DecisionTreeClassifier(max_depth=5)\n",
    "rfc=RandomForestClassifier(n_estimators=50,random_state=2)\n",
    "knc=KNeighborsClassifier()"
   ]
  },
  {
   "cell_type": "code",
   "execution_count": null,
   "id": "0ca9a362-d178-4d8e-abe9-dff5e7288a90",
   "metadata": {},
   "outputs": [],
   "source": [
    "clfs={\n",
    "    'NB':mnb,\n",
    "    'LR':lrc,\n",
    "    'DT':dtc,\n",
    "    'RF':rfc,\n",
    "    'KN':knc\n",
    "}"
   ]
  },
  {
   "cell_type": "code",
   "execution_count": null,
   "id": "de260151-a110-4145-85e0-b158a311a63a",
   "metadata": {},
   "outputs": [],
   "source": [
    "def train_classifier(clf,X_train,y_train,X_test,y_test):\n",
    "    clf.fit(X_train,y_train)\n",
    "    y_pred=clf.predict(X_test)\n",
    "    accuracy=accuracy_score(y_test,y_pred)\n",
    "    precision=precision_score(y_test,y_pred)\n",
    "    \n",
    "    return accuracy,precision"
   ]
  },
  {
   "cell_type": "code",
   "execution_count": null,
   "id": "b5aed3d7-73b4-4862-9426-3eeb38083a30",
   "metadata": {},
   "outputs": [],
   "source": [
    "accuracy_scores=[]\n",
    "precision_scores=[]\n",
    "for name,clf in clfs.items():\n",
    "    \n",
    "    current_accuracy,current_precision = train_classifier(clf,X_train,y_train,X_test,y_test)\n",
    "    \n",
    "    print(\"For\",name)\n",
    "    print(\"Accuracy - \",current_accuracy)\n",
    "    print(\"Precision - \",current_precision)\n",
    "\n",
    "    accuracy_scores.append(current_accuracy)\n",
    "    precision_scores.append(current_precision)"
   ]
  },
  {
   "cell_type": "code",
   "execution_count": null,
   "id": "0559fbb2-3086-43c9-83e8-96688bbb378a",
   "metadata": {},
   "outputs": [],
   "source": [
    "performance_df=pd.DataFrame({'Algorithm':clfs.keys(),'Accuracy':accuracy_scores,'Precision':precision_scores}).sort_values('Precision',ascending=False)\n",
    "performance_df"
   ]
  },
  {
   "cell_type": "code",
   "execution_count": null,
   "id": "61979cf7-7bb8-465b-8eb4-11edc5f62da3",
   "metadata": {},
   "outputs": [],
   "source": [
    "performance_df1=pd.melt(performance_df,id_vars=\"Algorithm\")"
   ]
  },
  {
   "cell_type": "code",
   "execution_count": null,
   "id": "f9bd120c-2930-4f13-8a42-6ef97195669d",
   "metadata": {},
   "outputs": [],
   "source": [
    "sns.catplot(x='Algorithm',y='value',hue='variable',data=performance_df1,kind='bar',height=5)\n",
    "plt.ylim(0.5,1.0)\n",
    "plt.xticks(rotation='vertical')\n",
    "plt.show()"
   ]
  },
  {
   "cell_type": "code",
   "execution_count": null,
   "id": "4f558bdf-3832-4ae4-a8a3-657e83115cf7",
   "metadata": {},
   "outputs": [],
   "source": [
    "#model improvement\n",
    "# 1.Change the max_features parameters of TfIdf"
   ]
  },
  {
   "cell_type": "code",
   "execution_count": null,
   "id": "923bf56e-bbb1-42d4-a290-445405fb0d96",
   "metadata": {},
   "outputs": [],
   "source": [
    "from sklearn.feature_extraction.text import CountVectorizer,TfidfVectorizer\n",
    "cv=CountVectorizer()\n",
    "tfidf=TfidfVectorizer(max_features=3000)\n",
    "X=tfidf.fit_transform(df['transformed_text']).toarray()\n",
    "y=df['target'].values\n",
    "X_train,X_test,y_train,y_test=train_test_split(X,y,test_size=0.2,random_state=2)\n",
    "mnb=MultinomialNB()\n",
    "lrc=LogisticRegression(solver='liblinear',penalty='l1')\n",
    "dtc=DecisionTreeClassifier(max_depth=5)\n",
    "rfc=RandomForestClassifier(n_estimators=50,random_state=2)\n",
    "knc=KNeighborsClassifier()\n",
    "clfs={\n",
    "    'NB':mnb,\n",
    "    'LR':lrc,\n",
    "    'DT':dtc,\n",
    "    'RF':rfc,\n",
    "    'KN':knc\n",
    "}\n",
    "def train_classifier(clf,X_train,y_train,X_test,y_test):\n",
    "    clf.fit(X_train,y_train)\n",
    "    y_pred=clf.predict(X_test)\n",
    "    accuracy=accuracy_score(y_test,y_pred)\n",
    "    precision=precision_score(y_test,y_pred)\n",
    "    \n",
    "    return accuracy,precision"
   ]
  },
  {
   "cell_type": "code",
   "execution_count": null,
   "id": "3e3bdf3e-e7af-4e97-9bd7-fe7fff8b260d",
   "metadata": {},
   "outputs": [],
   "source": [
    "accuracy_scores=[]\n",
    "precision_scores=[]\n",
    "for name,clf in clfs.items():\n",
    "    \n",
    "    current_accuracy,current_precision = train_classifier(clf,X_train,y_train,X_test,y_test)\n",
    "    \n",
    "    print(\"For\",name)\n",
    "    print(\"Accuracy - \",current_accuracy)\n",
    "    print(\"Precision - \",current_precision)\n",
    "\n",
    "    accuracy_scores.append(current_accuracy)\n",
    "    precision_scores.append(current_precision)"
   ]
  },
  {
   "cell_type": "code",
   "execution_count": null,
   "id": "89c399ee-3011-485e-afc1-663796bd31b1",
   "metadata": {},
   "outputs": [],
   "source": [
    "temp_df=pd.DataFrame({'Algorithm':clfs.keys(),'Accuracy_max_ft_3000':accuracy_scores,'Precision_max_ft_3000':precision_scores})"
   ]
  },
  {
   "cell_type": "code",
   "execution_count": null,
   "id": "61973f24-5abf-4bf5-9733-45eee1c06997",
   "metadata": {},
   "outputs": [],
   "source": [
    "new_df=performance_df.merge(temp_df,on='Algorithm')\n",
    "new_df"
   ]
  },
  {
   "cell_type": "code",
   "execution_count": null,
   "id": "740b94a9-dff3-4f23-b33f-06ee42a17e65",
   "metadata": {},
   "outputs": [],
   "source": [
    "from sklearn.feature_extraction.text import TfidfVectorizer\n",
    "tfidf=TfidfVectorizer(max_features=3000)\n",
    "X=tfidf.fit_transform(df['transformed_text']).toarray()\n",
    "from sklearn.preprocessing import MinMaxScaler\n",
    "scaler=MinMaxScaler()\n",
    "X=scaler.fit_transform(X)\n",
    "#appending the num_character col to X\n",
    "#X=np.hstack(X,df['num_characters'].values.reshape(-1,1))\n",
    "y=df['target'].values\n",
    "X_train,X_test,y_train,y_test=train_test_split(X,y,test_size=0.2,random_state=2)\n",
    "mnb=MultinomialNB()\n",
    "lrc=LogisticRegression(solver='liblinear',penalty='l1')\n",
    "dtc=DecisionTreeClassifier(max_depth=5)\n",
    "rfc=RandomForestClassifier(n_estimators=50,random_state=2)\n",
    "knc=KNeighborsClassifier()\n",
    "clfs={\n",
    "    'NB':mnb,\n",
    "    'LR':lrc,\n",
    "    'DT':dtc,\n",
    "    'RF':rfc,\n",
    "    'KN':knc\n",
    "}\n",
    "def train_classifier(clf,X_train,y_train,X_test,y_test):\n",
    "    clf.fit(X_train,y_train)\n",
    "    y_pred=clf.predict(X_test)\n",
    "    accuracy=accuracy_score(y_test,y_pred)\n",
    "    precision=precision_score(y_test,y_pred)\n",
    "    \n",
    "    return accuracy,precision\n",
    "accuracy_scores=[]\n",
    "precision_scores=[]\n",
    "for name,clf in clfs.items():\n",
    "    \n",
    "    current_accuracy,current_precision = train_classifier(clf,X_train,y_train,X_test,y_test)\n",
    "    \n",
    "    print(\"For\",name)\n",
    "    print(\"Accuracy - \",current_accuracy)\n",
    "    print(\"Precision - \",current_precision)\n",
    "\n",
    "    accuracy_scores.append(current_accuracy)\n",
    "    precision_scores.append(current_precision)"
   ]
  },
  {
   "cell_type": "code",
   "execution_count": null,
   "id": "8f2b456d-025f-4d33-bc72-f6765633b66b",
   "metadata": {},
   "outputs": [],
   "source": [
    "temp_df=pd.DataFrame({'Algorithm':clfs.keys(),'Accuracy_scaling':accuracy_scores,'Precision_scaling':precision_scores})\n",
    "new_df_scaled=new_df.merge(temp_df,on='Algorithm')\n",
    "new_df_scaled"
   ]
  },
  {
   "cell_type": "code",
   "execution_count": null,
   "id": "68e7cd24-d1ad-4380-9354-8a1ca21055f0",
   "metadata": {},
   "outputs": [],
   "source": []
  },
  {
   "cell_type": "code",
   "execution_count": null,
   "id": "a561ea2e-d8bd-40bb-9cdd-37b28f28dd18",
   "metadata": {},
   "outputs": [],
   "source": []
  },
  {
   "cell_type": "code",
   "execution_count": null,
   "id": "34952c37-f0ce-470e-b127-ae20def1e88a",
   "metadata": {},
   "outputs": [],
   "source": []
  }
 ],
 "metadata": {
  "kernelspec": {
   "display_name": "Python 3 (ipykernel)",
   "language": "python",
   "name": "python3"
  },
  "language_info": {
   "codemirror_mode": {
    "name": "ipython",
    "version": 3
   },
   "file_extension": ".py",
   "mimetype": "text/x-python",
   "name": "python",
   "nbconvert_exporter": "python",
   "pygments_lexer": "ipython3",
   "version": "3.12.4"
  }
 },
 "nbformat": 4,
 "nbformat_minor": 5
}
